{
 "cells": [
  {
   "cell_type": "code",
   "execution_count": 1,
   "metadata": {},
   "outputs": [],
   "source": [
    "import tensorflow as tf\n",
    "from os import path, getcwd, chdir\n",
    "\n",
    "path = f\"{getcwd()}/../tmp2/mnist.npz\""
   ]
  },
  {
   "cell_type": "code",
   "execution_count": 2,
   "metadata": {},
   "outputs": [],
   "source": [
    "config = tf.ConfigProto()\n",
    "config.gpu_options.allow_growth = True\n",
    "sess = tf.Session(config=config)"
   ]
  },
  {
   "cell_type": "code",
   "execution_count": 6,
   "metadata": {},
   "outputs": [],
   "source": [
    "def train_mnist_conv():\n",
    "\n",
    "    class myCallback(tf.keras.callbacks.Callback):\n",
    "        def on_epoch_end(self, epoch, logs = {}):\n",
    "            if(logs.get('acc')>0.998):\n",
    "                print('\\nReached 99.8% accuracy so cancelling training!')\n",
    "                self.model.stop_training = True\n",
    "    \n",
    "    callbacks = myCallback()\n",
    "\n",
    "    mnist = tf.keras.datasets.mnist\n",
    "    (training_images, training_labels), (test_images, test_labels) = mnist.load_data(path=path)\n",
    "    \n",
    "    training_images = training_images/255.0\n",
    "    training_images = training_images.reshape(60000,28,28,1)\n",
    "    \n",
    "    test_images = test_images/255.0\n",
    "    test_images = test_images.reshape(10000,28,28,1)\n",
    "\n",
    "    model = tf.keras.models.Sequential([\n",
    "            tf.keras.layers.Conv2D(64, (3,3), activation = 'relu' ,input_shape = (28,28,1)),\n",
    "            tf.keras.layers.MaxPooling2D(2,2),\n",
    "            tf.keras.layers.Flatten(),\n",
    "            tf.keras.layers.Dense(128 , activation = tf.nn.relu),\n",
    "            tf.keras.layers.Dense(10, activation = tf.nn.softmax)\n",
    "    ])\n",
    "\n",
    "    model.compile(optimizer='adam', loss='sparse_categorical_crossentropy', metrics=['accuracy'])\n",
    "    \n",
    "    history = model.fit(training_images, training_labels , epochs = 20 , callbacks = [callbacks])\n",
    "    \n",
    "    return history.epoch, history.history['acc'][-1]"
   ]
  },
  {
   "cell_type": "code",
   "execution_count": 7,
   "metadata": {},
   "outputs": [
    {
     "name": "stdout",
     "output_type": "stream",
     "text": [
      "Epoch 1/20\n",
      "60000/60000 [==============================] - 17s 276us/sample - loss: 0.1458 - acc: 0.9564\n",
      "Epoch 2/20\n",
      "60000/60000 [==============================] - 17s 275us/sample - loss: 0.0511 - acc: 0.9845\n",
      "Epoch 3/20\n",
      "60000/60000 [==============================] - 16s 272us/sample - loss: 0.0312 - acc: 0.9901\n",
      "Epoch 4/20\n",
      "60000/60000 [==============================] - 16s 266us/sample - loss: 0.0202 - acc: 0.9936\n",
      "Epoch 5/20\n",
      "60000/60000 [==============================] - 16s 263us/sample - loss: 0.0149 - acc: 0.9953\n",
      "Epoch 6/20\n",
      "60000/60000 [==============================] - 16s 263us/sample - loss: 0.0099 - acc: 0.9970\n",
      "Epoch 7/20\n",
      "60000/60000 [==============================] - 16s 260us/sample - loss: 0.0075 - acc: 0.9978\n",
      "Epoch 8/20\n",
      "59808/60000 [============================>.] - ETA: 0s - loss: 0.0057 - acc: 0.9983\n",
      "Reached 99.8% accuracy so cancelling training!\n",
      "60000/60000 [==============================] - 16s 263us/sample - loss: 0.0057 - acc: 0.9983\n"
     ]
    }
   ],
   "source": [
    "_, _ = train_mnist_conv()"
   ]
  }
 ],
 "metadata": {
  "coursera": {
   "course_slug": "introduction-tensorflow",
   "graded_item_id": "ml06H",
   "launcher_item_id": "hQF8A"
  },
  "kernelspec": {
   "display_name": "Python 3",
   "language": "python",
   "name": "python3"
  },
  "language_info": {
   "codemirror_mode": {
    "name": "ipython",
    "version": 3
   },
   "file_extension": ".py",
   "mimetype": "text/x-python",
   "name": "python",
   "nbconvert_exporter": "python",
   "pygments_lexer": "ipython3",
   "version": "3.6.8"
  }
 },
 "nbformat": 4,
 "nbformat_minor": 1
}
